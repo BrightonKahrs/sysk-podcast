{
 "cells": [
  {
   "cell_type": "markdown",
   "metadata": {},
   "source": [
    "# Stuff You Should Know Podcast"
   ]
  },
  {
   "cell_type": "markdown",
   "metadata": {},
   "source": [
    "### Notebook Covers\n",
    "0. Import dependencies\n",
    "1. Retrieving xml from sysk feed\n",
    "2. Parsing xml and transforming into json\n",
    "3. Fetching mp3 files for episodes\n",
    "4. Transcribing mp3 using whisper tiny model\n",
    "5. Chunking and embedding transcripts\n",
    "6. Chat with the data using retrieval augmented generation (RAG)"
   ]
  },
  {
   "cell_type": "markdown",
   "metadata": {},
   "source": [
    "### 0. Import dependencies"
   ]
  },
  {
   "cell_type": "markdown",
   "metadata": {},
   "source": [
    "In this project, we will heavily rely on Whisper and Langchain to accomplish our objectives. These technologies will enable us to generate high-quality, coherent, and informative text by leveraging the vast knowledge and language understanding capabilities of the models. Remember to run this section for module import if starting from any other section"
   ]
  },
  {
   "cell_type": "code",
   "execution_count": 11,
   "metadata": {},
   "outputs": [],
   "source": [
    "import whisper\n",
    "import os\n",
    "import requests\n",
    "from dotenv import load_dotenv\n",
    "import xmltodict\n",
    "import json\n",
    "import tiktoken\n",
    "from langchain.chat_models import ChatOpenAI\n",
    "from langchain.schema import HumanMessage, SystemMessage, AIMessage\n",
    "from langchain.schema import Document\n",
    "from langchain.embeddings import OpenAIEmbeddings\n",
    "from langchain.text_splitter import RecursiveCharacterTextSplitter\n",
    "\n",
    "\n",
    "load_dotenv()\n",
    "openai_api_key = os.getenv('OPENAI_API_KEY')"
   ]
  },
  {
   "cell_type": "markdown",
   "metadata": {},
   "source": [
    "### 1. Retrieving xml from sysk feed"
   ]
  },
  {
   "cell_type": "markdown",
   "metadata": {},
   "source": [
    "First, we need to retrieve the latest sysk rss feed. This feed contains information from the podcast, such as episode descriptions and links to the mp3 files."
   ]
  },
  {
   "cell_type": "code",
   "execution_count": 2,
   "metadata": {},
   "outputs": [],
   "source": [
    "# Create directory for rss_feed if not exists\n",
    "parent_directory = os.path.dirname(os.getcwd())\n",
    "save_folder = os.path.join(parent_directory, 'rss_feed')\n",
    "os.makedirs(save_folder, exist_ok=True)\n",
    "\n",
    "# Request rss file\n",
    "podcast_url = 'https://omnycontent.com/d/playlist/e73c998e-6e60-432f-8610-ae210140c5b1/A91018A4-EA4F-4130-BF55-AE270180C327/44710ECC-10BB-48D1-93C7-AE270180C33E/podcast.rss'\n",
    "response = requests.get(podcast_url)\n",
    "\n",
    "# Save rss file to new directory\n",
    "save_file_path = os.path.join(save_folder, 'sysk_podcast.rss')\n",
    "\n",
    "if response.status_code == 200:\n",
    "    with open(save_file_path, 'wb') as file:\n",
    "        file.write(response.content)"
   ]
  },
  {
   "cell_type": "markdown",
   "metadata": {},
   "source": [
    "### 2. Parsing xml and transforming into json"
   ]
  },
  {
   "cell_type": "markdown",
   "metadata": {},
   "source": [
    "Next, to clean things up, let's fetch the useful information from xml rss feed and transform that into JSON"
   ]
  },
  {
   "cell_type": "code",
   "execution_count": 3,
   "metadata": {},
   "outputs": [],
   "source": [
    "# Retrieve the newly created file. I repeat myself here in case user starts fresh from section 2\n",
    "parent_directory = os.path.dirname(os.getcwd())\n",
    "load_file_path = os.path.join(parent_directory, 'rss_feed', 'sysk_podcast.rss')\n",
    "with open(load_file_path, 'r', errors='ignore') as file:\n",
    "    content = file.read()\n",
    "\n",
    "# Create folder for episode information\n",
    "save_folder = os.path.join(parent_directory, 'episode_info')\n",
    "os.makedirs(save_folder, exist_ok=True)\n",
    "\n",
    "# Parse xml into a dict\n",
    "xml_dict = xmltodict.parse(content)\n",
    "\n",
    "# Get list of items (aka podcast episodes)\n",
    "items = xml_dict['rss']['channel']['item']\n",
    "\n",
    "# Important step to only take 10 shorter episodes for practice, comment out to run full list\n",
    "i = 0\n",
    "items_temp = []\n",
    "for item in items:\n",
    "    if i == 10:\n",
    "        break\n",
    "    if 'Short Stuff' in item['title']:\n",
    "        items_temp.append(item)\n",
    "        i += 1\n",
    "items = items_temp\n",
    "\n",
    "# Loop through items in xml dict and dump into new folder as json\n",
    "for item in items:\n",
    "    episode_info = {\n",
    "        'title': item['title'],\n",
    "        'guid': item['guid']['#text'],\n",
    "        'publish_date': item['pubDate'],\n",
    "        'mp3_path': item['enclosure']['@url']\n",
    "    }\n",
    "\n",
    "    save_file_path = os.path.join(save_folder, item['guid']['#text'] + '.json')\n",
    "    with open(save_file_path, 'w') as file:\n",
    "        json.dump(episode_info, file)"
   ]
  },
  {
   "cell_type": "markdown",
   "metadata": {},
   "source": [
    "### 3. Fetching mp3 files for episodes"
   ]
  },
  {
   "cell_type": "markdown",
   "metadata": {},
   "source": [
    "Here, we will use the mp3_path parsed from the xml rss feed (then persisted into json) to download the associated mp3 into another folder"
   ]
  },
  {
   "cell_type": "code",
   "execution_count": 4,
   "metadata": {},
   "outputs": [],
   "source": [
    "# Retrieve episode_info\n",
    "parent_directory = os.path.dirname(os.getcwd())\n",
    "load_folder = os.path.join(parent_directory, 'episode_info')\n",
    "episode_info_dir = os.listdir(load_folder)\n",
    "\n",
    "# Create folder for mp3 audio if it does not already exist\n",
    "save_folder = os.path.join(parent_directory, 'audio')\n",
    "os.makedirs(save_folder, exist_ok=True)\n",
    "\n",
    "# Open up each file in episode_info folder, download mp3 files to new audio folder, name each mp3 with the associated episode guid\n",
    "for episode in episode_info_dir:\n",
    "    file_path = os.path.join(load_folder, episode)\n",
    "\n",
    "    with open(file_path, 'r') as episode_info:\n",
    "        data = json.load(episode_info)\n",
    "        mp3_path = data.get('mp3_path')\n",
    "        guid = data.get('guid')\n",
    "        response = requests.get(mp3_path)\n",
    "\n",
    "        if response.status_code == 200:\n",
    "            save_file_path = os.path.join(save_folder, guid + '.mp3')\n",
    "            with open(save_file_path, \"wb\") as file:\n",
    "                file.write(response.content)"
   ]
  },
  {
   "cell_type": "markdown",
   "metadata": {},
   "source": [
    "### 4. Transribe audio into transcripts"
   ]
  },
  {
   "cell_type": "code",
   "execution_count": 5,
   "metadata": {},
   "outputs": [],
   "source": [
    "# Create whisper model \"tiny\"\n",
    "model = whisper.load_model(\"tiny\")"
   ]
  },
  {
   "cell_type": "code",
   "execution_count": 6,
   "metadata": {},
   "outputs": [
    {
     "name": "stderr",
     "output_type": "stream",
     "text": [
      "C:\\Users\\brikahrs\\AppData\\Local\\Packages\\PythonSoftwareFoundation.Python.3.10_qbz5n2kfra8p0\\LocalCache\\local-packages\\Python310\\site-packages\\whisper\\transcribe.py:114: UserWarning: FP16 is not supported on CPU; using FP32 instead\n",
      "  warnings.warn(\"FP16 is not supported on CPU; using FP32 instead\")\n"
     ]
    }
   ],
   "source": [
    "# Get necessary paths\n",
    "parent_directory = os.path.dirname(os.getcwd())\n",
    "audio_path = os.path.join(parent_directory, 'audio')\n",
    "episode_info_path = os.path.join(parent_directory, 'episode_info')\n",
    "\n",
    "# Loop through episode_info folder, lookup audio from guid, transcribe using whisper, write transcription back into episode_info json\n",
    "for episode in episode_info_dir:\n",
    "    file_path = os.path.join(episode_info_path, episode)\n",
    "\n",
    "    with open(file_path, 'r') as episode_info:\n",
    "        data = json.load(episode_info)\n",
    "        guid = data.get('guid')\n",
    "        audio_file_path = os.path.join(audio_path, guid + '.mp3')\n",
    "\n",
    "        transcription = model.transcribe(audio_file_path)\n",
    "        data['transcription'] = transcription['text']\n",
    "    \n",
    "    with open(file_path, 'w') as file:\n",
    "        json.dump(data, file)"
   ]
  },
  {
   "cell_type": "markdown",
   "metadata": {},
   "source": [
    "### 5. Chunking and Embedding Transcripts"
   ]
  },
  {
   "cell_type": "code",
   "execution_count": 20,
   "metadata": {},
   "outputs": [],
   "source": [
    "parent_directory = os.path.dirname(os.getcwd())\n",
    "\n",
    "docs = []\n",
    "\n",
    "with open (os.path.join(parent_directory, 'episode_info', '3ce14c09-a1ae-4df1-8f51-b01200d74112.json'), 'r') as file:\n",
    "    data = json.load(file)\n",
    "\n",
    "    transcript = data['transcription']\n",
    "    docs.append(Document(page_content=transcript))"
   ]
  },
  {
   "cell_type": "code",
   "execution_count": 21,
   "metadata": {},
   "outputs": [
    {
     "name": "stdout",
     "output_type": "stream",
     "text": [
      "<Encoding 'cl100k_base'>\n"
     ]
    }
   ],
   "source": [
    "print(tiktoken.encoding_for_model('gpt-3.5-turbo'))\n",
    "tokenizer = tiktoken.get_encoding('cl100k_base')\n",
    "\n",
    "def tiktoken_len(text):\n",
    "    tokens = tokenizer.encode(text, disallowed_special=())\n",
    "    return len(tokens)\n",
    "\n",
    "text_splitter = RecursiveCharacterTextSplitter(chunk_size=200, chunk_overlap=20, length_function=tiktoken_len, separators=[' ', ''])"
   ]
  },
  {
   "cell_type": "code",
   "execution_count": 22,
   "metadata": {},
   "outputs": [
    {
     "name": "stdout",
     "output_type": "stream",
     "text": [
      "19\n",
      "[\"You know, there are some things in life you just can't trust. Like a free couch on the side of the road. Or the sushi rolls from your local gas station. Or when your kid says they don't need the bathroom before the road trip. But there are some things in life you can't trust. Like the HP Smart Tank Printer. With up to two years of ink included and outstanding print quality, you can rely on the HP Smart Tank Printer from HP. America's most trusted printer brand. Hey, I'm welcome to the short stuff. I'm Josh, there's Chuck Jerry's here too. Dave's here in Spare Let's Go. Big thanks to Still Assignmenton, great name. One of the great house stuff works.com writers. And I am really thrilled with this one because I had always known about and heard the term in fully understood what Rub Goldberg meant. A Rub Goldberg machine. Something that is really complex and kind of awesome. And it's usually some\", \"A Rub Goldberg machine. Something that is really complex and kind of awesome. And it's usually some kind of crazy contraption that ends up doing something very, very simply in a way that's far too complicated than it needs to be. Right. And I know that because it's a very common term. It's been around since in the dictionary actually since 1931. But I never until like yesterday knew that Rub Goldberg was like a dude. And he was a cartoonist. And that's where it came from. You drew cartoons about these machines. It was very popular for it. Yeah, for sure. I guess I knew that already. And I'm not sure. Yeah, I did. I think one of the things, my first introduction to Rub Goldberg was that game mouse trap. Remember that? Of course I have one in Ruby's room. Okay, there you go. So that was directly lifted in some ways from Rub Goldberg cartoons. That must have been where the\", \"So that was directly lifted in some ways from Rub Goldberg cartoons. That must have been where the springboard for me that going to mean a bath of that went down a pole and dropped me off in a fountain of molasses. Yeah, he had a mouse trap cartoon. It wasn't what they did in the game. But clearly inspired by that kind of thing. He did like 50,000 cartoons. When I look at his stuff, I'm sure you looked at it some of these cartoons. I really like the actual contraption stuff. Not so much the others. It was not unlike our crumb in style. For sure. And I went and looked it up and apparently Rub Goldberg is one of quite a few artists that inspired our crumb. So it made sense. Okay, good catch, man. Yeah, it's sort of our crummy. One of the other little interesting tidbits about Rub Goldberg to get started is, his name is the only name listed as\", \"little interesting tidbits about Rub Goldberg to get started is, his name is the only name listed as an adjective in Maryam Rubster dictionary. And there are other names listed, but they're altered like Machiavellian. This is just Rub Goldberg is an adjective to describe something that is unnecessarily complicated. Well, your name is the only name that is in the dictionary as a verb. That's true. Got a Clarkson buddy something. Clark me that mouse trap board game. Amazing. I think you think about that. You want to Rub Goldberg? Yep. Pals forever. All right. So Rub Goldberg was born Ruben Garrett Lucius Goldberg. Concave. Great name. Born in the 4th of July in 1883 in San Francisco. And this all makes sense. He was an engineer. He went to school at Cal Berkeley and got an engineering degree. So it sort of makes sense that all these sort of contraptions he'd do in these cartoons\", \"So it sort of makes sense that all these sort of contraptions he'd do in these cartoons came from an engineer's brain. Yeah, I guess he was a cartoonist at heart. At the very least, his granddaughter who wrote a book about him. Her name was Jennifer is Jennifer George. Her book is the art of Rub Goldberg. And she said that what he cared most about was if he made you laugh. And there's not that much room to do that as a mining engineer. So he spent about six months after he got his degree. He graduated. He spent six months mapping water and sewer lines. And he said, this is not the job. For me. And he quit. It was a pretty well-paying job and de-camp to New York where he took a much lower paying job at the New York evening male as a cartoonist because that's what he wanted to do. So he decided to do what he was that kind of guy. You know what\", \"wanted to do. So he decided to do what he was that kind of guy. You know what else he did that kind of knock me out? What? In the book is Grand Outer talked about the fact that he was a writer. He was a sculptor later in life. But he wrote a three-stuages movie. Oh, yeah, that's right. Before they were well-known. Back then, they were head healing in his stuages. It was pre-early. I'm going to say the wrong stuage. I can't remember. Pre-carly? Pre-carly? It might have been pre-carly. The original three was curly, mo, and lary. Okay, I think it was. No. And then she came after curly. And then you had curly, joe, and then you had joe besser. And then you had like the Harlem Globe Trotters and Scoobyew for some reason. There we do one on the\", \"like the Harlem Globe Trotters and Scoobyew for some reason. There we do one on the three-stuages at some point. That'd be fun. Definitely. Anyway, he wrote the three-stuages movie, Soup to Nut. But ended up like he said, being a cartoonist. And first got his fame, drawing a cartoon that was of the time. It's not so funny now. But they were called foolish questions. Mm-hmm. I did close to 500 of these. And one example was it would be a guy that had just fallen from a tall building on the ground. And the lady comes up and says, are you hurt? And he says, no, I'm taking my beauty sleep. Oh, so, translate is like the funniest thing these days. But I really don't. Just gangbusters in the early 1900s. Yeah, that was one thing he had a knack for. It was creating national\", \"Yeah, that was one thing he had a knack for. It was creating national fads. So people from around the country sent in suggestions for foolish questions. Any wrote, I think he drew 500 of them. Did you say they're 450? Yeah, close to it. So that was just a kind of like a trait of his career. He was a nationally syndicated cartoonist almost out of the gate. And so when he came up with a new idea, it usually just for some reason struck a nerve in America just want bonkers for it. Yeah, that's a good cliffhanger. Yeah, yeah, I think it's a good place for a break. I don't know if we're hanging on any cliff here. All right, we'll be right back to reveal through the murderous right after this. Foundation from a producer of Top Gun, Maverick and based on Isaac Azimov's groundbreaking novels comes to the next Apple TV plus streaming event,\", \"and based on Isaac Azimov's groundbreaking novels comes to the next Apple TV plus streaming event, a visually stunning series about a man who predicts a shocking future and the woman with the power to change it as they rise together against an empire. See the global phenomenon. Foundation now streaming on Apple TV plus, while of the official podcast on Apple podcasts. You know, summer comes with some really great pairings. Chuck, like some of these on a nice beach or a barbecue and a nice backyard. I'll sort of create stuff, right? That's right. And I gotta tell you, the blue moon brewing company knows the thing or two about great pairings because blue moon isn't just another beer. It's a whole different experience. That's right. Blue moon Belgian white Belgian style wheat ale goes great with the freshly sliced orange wheel. Everybody knows that. And Azesty orange peel brightens up a glass of blue moon light sky citrus wheat or tropical wheat too. How about\", \"peel brightens up a glass of blue moon light sky citrus wheat or tropical wheat too. How about this? Blue moon moon haze combines its hazy pale ale with the juicy flavor of dried whole oranges. It's a pairing banana. That's right. So pair your summer with blue moon brewing company. Get blue moon Belgian white, light sky, and moon haze delivered by visiting get.blumenbeer.com slash stuff to see your delivery options. That's get.blumenbeer.com slash stuff. Blue moon made brighter. The rate responsibly blue moon brewing company Golden Colorado ale. So in addition to foolish questions, he had a whole plethora of other kind of cartoon inventions. Not the cartoons about inventions like cartoon characters and strips that he invented is what I mean. So there's the I'm the guy which started another national trend. It would be like I'm the guy who put the hobo and hobo can people love that. I guess it was kind of like the original you might be a\", \"hobo can people love that. I guess it was kind of like the original you might be a redneck if or here's your sign or something like that. Yeah. That was a fox or they recently by the way in an airport. Oh, a content. Content. Was he doing like a performance or was he walking around? No, yeah he was performing in airport. He had to get dark. He's up in with a bunch of change in there. Did you say hi? No, no, I'll just just like yeah. You didn't give him like a low five as you passed him. No. Okay. That should have sorry. So there was the I'm the guy. Another very famous character was Boob Mcnut. I'm the one with the Boob Mcnut strips. I mean, they are involved. Not funny. Even if you just kind of take away like the fact that like 100 something years of past, it's just not that\", \"of take away like the fact that like 100 something years of past, it's just not that funny. But there's still cute and adorable and very well done. Yeah, I love the art. Yeah, for sure. So he eventually in 1912 as when he started these rude goldburg invention drawings. And these really, really took off. There was one that was used in the House of Works article as an example. That's pretty fun. Called the simple mosquito exterminator. No home should be without it. And I'm just going to read it real quick from Rub Goldberg's own writing. The mosquito enters a window at A and walks along board, which is strewn with small chunks of rare steak. After munching steak as he walks, he's overcome by fumes coming from sponge B, which is soaked in chloroform and falls on platform C when he regains consciousness. He looks through the telescope D and spies reflection of bald head. E,\", \"he regains consciousness. He looks through the telescope D and spies reflection of bald head. E, and there's a guy laying on the bed, in mirror. He mistakes this for the real thing. Jump self springboard C through D and dashes his brains, I guess we would say, dashes these days, out against the mirror falling lifeless and can F. Yeah, and the reason you kept going through parts of the alphabet reading that is because these invention cartoons were, they were like schematics. So, like each part was labeled with the letter and then the corresponding explanation would say, you know, A and B and all that. So, that's just kind of made it even cooler. And I think, you know, obviously he had a bit of the spirit of an engineer still, although the spirit of the cartoon, like really overwhelmed and throttled in and it up strangling the spirit of the engineer. Yeah, I love this stuff. I looked at these cartoons all\", \"the spirit of the engineer. Yeah, I love this stuff. I looked at these cartoons all morning on a really, really like them. That's awesome. There's another character that he made that I read was probably his most famous, at least as far as characters went, Professor Lucifer, Gorgon's all the butts and Professor B. Right, exactly. Professor Buts was based on two different professors that Goldberg had in college at the mining school. One of Samuel B. Christie, he was the dean of the mining school. Another was Frederick Slate, who was the head of the physics department. And he found them both painfully boring and dry. Apparently Samuel B. Christie's favorite thing was to explain what degree you should push a wheelbarrow uphill at for maximum efficiency. Was that kind of die? Yeah. And so, he kind of put these two together and created Professor Lucifer Gorgon's all the butts. But from his experience with these guys with Slate\", \"Professor Lucifer Gorgon's all the butts. But from his experience with these guys with Slate in particular, kind of like esoteric joke came along that I'm not sure whether he was aware of or not. But he mentions something, I think he wrote an essay that was published, something called the Barotic B-A-R-O-D-I-K, which he described as this incredibly convoluted machine that filled an entire laboratory that was meant to measure the mass of the earth, the weight of the earth, I think is the way he put it. And his explanation were like the only account of this machine. And some people got kind of obsessed trying to find like other documentation of this machine. And as this one guy he wrote an article in the UC, where was he from Irvine? Perfectly. I see him for this guy. No, he's from Goldberg? Yeah. Oh, the college, I thought he was in a lump, right? I think so. UC\", \"Oh, the college, I thought he was in a lump, right? I think so. UC Berkeley, anyway, this guy wrote an article called Crackslate in the UC Berkeley, I guess, Blue and Gold publication, I'm not sure. And he talks about trying to find documentation and he realizes like this is a figment generally of Goldberg's imagination. There was a machine that had a name similar to that, but it was just a barometer. But he took it and created this huge, basically enormous convoluted machine in his imagination. And inadvertently, or inadvertently, left a historical joke kind of as a time bomb for somebody to come along and get obsessed with. Now was that Goldberg or Slate? So Slate supposedly had that machine in his lab. Goldberg was the one who described it and his essay was the only documentation of it for a while. Okay, I get it now. Yeah. Well, it is interesting that it's funny to think about these cartoons or\", \"it now. Yeah. Well, it is interesting that it's funny to think about these cartoons or just fun and all that stuff. But people have pointed out over the years that like, you know, these are really commentaries that are more relevant now than they even were back then, which is this idea that machines, many times can come along and mess things up, technology can mess things up like we can take very simple elegant processes and make them far more complicated than they need to be because of technology. And I think Goldberg was probably poking around at that idea himself, don't you? Yeah, definitely. For sure. Well, he was also a conservative and he viewed like an increasingly large and cumbersome federal government that grew up under FDR as like an example of one of his Goldberg machines and unnecessarily complicated machine for carrying out a relatively simple task. Yeah. He was also a political cartoonist too. He won a Pulitzer at least for one or Pulitzer. And he also received some\", \"cartoonist too. He won a Pulitzer at least for one or Pulitzer. And he also received some death threats for some of them because they didn't always sit well with Americans. And he became so concerned with it. He had his family's name changed. So the reason his granddaughter's name was Jennifer George is because his son Thomas changed his name to Thomas George. And his other son George followed in Thomas' footsteps and took the name George George and Jennifer is the daughter of one of them. Yeah, he was Jewish and he would come in a lot in his cartoons on fascism and what's going on. And like you said, didn't sit well with a lot of people. And we should point out the one he won the Pulitzer was a cartoon in 1947 at a little house balanced on a nuclear missile balanced on a precipice. And it just said peace today. Mm-hmm. Obviously a very shaky thing. And he won a Pulitzer for that which is great.\", 'Obviously a very shaky thing. And he won a Pulitzer for that which is great. Yeah. And then one last thing, apparently Mouse trapped the game actually did lift some components of some of his drawings directly from his cartoons and refused to pay him any royalties for them. Yeah, Marvin Glass was to blame for that. Boo. So there you go. I took Booth Marvin Glass which of course means that short stuff is out. Stuff you should know is a production of I Heart Radio. For more podcasts to my heart radio visit the I Heart Radio app. Apple podcasts are wherever you listen to your favorite shows.']\n"
     ]
    }
   ],
   "source": [
    "chunks = text_splitter.split_text(docs[0].page_content)\n",
    "print(len(chunks))\n",
    "print(chunks)"
   ]
  }
 ],
 "metadata": {
  "kernelspec": {
   "display_name": "Python 3",
   "language": "python",
   "name": "python3"
  },
  "language_info": {
   "codemirror_mode": {
    "name": "ipython",
    "version": 3
   },
   "file_extension": ".py",
   "mimetype": "text/x-python",
   "name": "python",
   "nbconvert_exporter": "python",
   "pygments_lexer": "ipython3",
   "version": "3.10.11"
  },
  "orig_nbformat": 4
 },
 "nbformat": 4,
 "nbformat_minor": 2
}
