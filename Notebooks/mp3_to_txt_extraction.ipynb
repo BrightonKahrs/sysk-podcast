{
 "cells": [
  {
   "cell_type": "code",
   "execution_count": 1,
   "metadata": {},
   "outputs": [
    {
     "name": "stderr",
     "output_type": "stream",
     "text": [
      "100%|█████████████████████████████████████| 72.1M/72.1M [00:07<00:00, 9.76MiB/s]\n"
     ]
    }
   ],
   "source": [
    "import whisper\n",
    "import os\n",
    "model = whisper.load_model(\"tiny\")"
   ]
  },
  {
   "cell_type": "code",
   "execution_count": 7,
   "metadata": {},
   "outputs": [
    {
     "name": "stderr",
     "output_type": "stream",
     "text": [
      "C:\\Users\\brigh\\AppData\\Local\\Packages\\PythonSoftwareFoundation.Python.3.10_qbz5n2kfra8p0\\LocalCache\\local-packages\\Python310\\site-packages\\whisper\\transcribe.py:114: UserWarning: FP16 is not supported on CPU; using FP32 instead\n",
      "  warnings.warn(\"FP16 is not supported on CPU; using FP32 instead\")\n"
     ]
    }
   ],
   "source": [
    "# Get the parent directory\n",
    "parent_directory = os.path.dirname(os.getcwd())\n",
    "\n",
    "# Specify the relative path to the 'Audio' folder and the 'Transcripts' folder\n",
    "audio_folder_path = os.path.join(parent_directory, 'Audio')\n",
    "transcripts_folder_path = os.path.join(parent_directory, 'Transcripts')\n",
    "\n",
    "# loop through and transcribe audio files in the Audio directory and place into the Transcripts directory\n",
    "for filename in os.listdir(audio_folder_path):\n",
    "    if filename.endswith('.mp3'):\n",
    "        mp3_file_path = os.path.join(audio_folder_path, filename)\n",
    "        transcription = model.transcribe(mp3_file_path)\n",
    "\n",
    "        transcription_file_path = os.path.join(transcripts_folder_path, filename.replace('.mp3', ''))\n",
    "\n",
    "        with open(f'{transcription_file_path}.txt', 'w') as f:\n",
    "            f.write(transcription['text'])"
   ]
  }
 ],
 "metadata": {
  "kernelspec": {
   "display_name": "Python 3",
   "language": "python",
   "name": "python3"
  },
  "language_info": {
   "codemirror_mode": {
    "name": "ipython",
    "version": 3
   },
   "file_extension": ".py",
   "mimetype": "text/x-python",
   "name": "python",
   "nbconvert_exporter": "python",
   "pygments_lexer": "ipython3",
   "version": "3.10.11"
  },
  "orig_nbformat": 4
 },
 "nbformat": 4,
 "nbformat_minor": 2
}
